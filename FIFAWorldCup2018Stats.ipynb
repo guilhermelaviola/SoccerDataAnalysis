{
  "nbformat": 4,
  "nbformat_minor": 0,
  "metadata": {
    "colab": {
      "provenance": [],
      "authorship_tag": "ABX9TyPKnZVhOkz7AT+C0X5dXNee",
      "include_colab_link": true
    },
    "kernelspec": {
      "name": "python3",
      "display_name": "Python 3"
    },
    "language_info": {
      "name": "python"
    }
  },
  "cells": [
    {
      "cell_type": "markdown",
      "metadata": {
        "id": "view-in-github",
        "colab_type": "text"
      },
      "source": [
        "<a href=\"https://colab.research.google.com/github/guilhermelaviola/SoccerDataAnalysis/blob/main/FIFAWorldCup2018Stats.ipynb\" target=\"_parent\"><img src=\"https://colab.research.google.com/assets/colab-badge.svg\" alt=\"Open In Colab\"/></a>"
      ]
    },
    {
      "cell_type": "code",
      "execution_count": 1,
      "metadata": {
        "id": "i_Nwhy12VApz"
      },
      "outputs": [],
      "source": [
        "# Importing all the necessary libraries:\n",
        "import pandas as pd"
      ]
    },
    {
      "cell_type": "code",
      "source": [
        "# Importing the datasets:\n",
        "matches = pd.read_csv('https://github.com/shotin93/fifa-world-cup-2018/blob/main/source/matches.csv', on_bad_lines='skip')\n",
        "matches_member = pd.read_csv('https://github.com/shotin93/fifa-world-cup-2018/blob/main/source/matches_member.csv', on_bad_lines='skip')\n",
        "events = pd.read_csv('https://github.com/shotin93/fifa-world-cup-2018/blob/main/source/events.csv', on_bad_lines='skip')\n",
        "event_kinds = pd.read_csv('https://github.com/shotin93/fifa-world-cup-2018/blob/main/source/event_kinds.csv', on_bad_lines='skip')\n",
        "sub_event_kinds = pd.read_csv('https://github.com/shotin93/fifa-world-cup-2018/blob/main/source/sub_event_kinds.csv', on_bad_lines='skip')\n",
        "#players = pd.read_json('https://github.com/shotin93/fifa-world-cup-2018/blob/main/source/players.json', on_bad_lines='skip')\n",
        "teams = pd.read_csv('https://github.com/shotin93/fifa-world-cup-2018/blob/main/source/teams.csv', on_bad_lines='skip')"
      ],
      "metadata": {
        "id": "26Z5sIdJnMNL"
      },
      "execution_count": 14,
      "outputs": []
    },
    {
      "cell_type": "code",
      "source": [
        "# Visualizing Brazil vs Belgium:\n",
        "teams[teams.officialName.str.contains('Brazil')].append(teams[teams.officialName.str.contains('Belgium')])\n",
        "\n",
        "#\n",
        "matches[matches.teamId == 6380].append(matches[matches.teamId == 5629])"
      ],
      "metadata": {
        "id": "kNiqkWSxdPN5",
        "outputId": "2b37f9d4-732a-4fec-f14b-d671d8802ebb",
        "colab": {
          "base_uri": "https://localhost:8080/",
          "height": 366
        }
      },
      "execution_count": 18,
      "outputs": [
        {
          "output_type": "error",
          "ename": "AttributeError",
          "evalue": "ignored",
          "traceback": [
            "\u001b[0;31m---------------------------------------------------------------------------\u001b[0m",
            "\u001b[0;31mAttributeError\u001b[0m                            Traceback (most recent call last)",
            "\u001b[0;32m<ipython-input-18-eeb141de7096>\u001b[0m in \u001b[0;36m<cell line: 2>\u001b[0;34m()\u001b[0m\n\u001b[1;32m      1\u001b[0m \u001b[0;31m# Visualizing Brazil vs Belgium:\u001b[0m\u001b[0;34m\u001b[0m\u001b[0;34m\u001b[0m\u001b[0m\n\u001b[0;32m----> 2\u001b[0;31m \u001b[0mteams\u001b[0m\u001b[0;34m[\u001b[0m\u001b[0mteams\u001b[0m\u001b[0;34m.\u001b[0m\u001b[0mofficialName\u001b[0m\u001b[0;34m.\u001b[0m\u001b[0mstr\u001b[0m\u001b[0;34m.\u001b[0m\u001b[0mcontains\u001b[0m\u001b[0;34m(\u001b[0m\u001b[0;34m'Brazil'\u001b[0m\u001b[0;34m)\u001b[0m\u001b[0;34m]\u001b[0m\u001b[0;34m.\u001b[0m\u001b[0mappend\u001b[0m\u001b[0;34m(\u001b[0m\u001b[0mteams\u001b[0m\u001b[0;34m[\u001b[0m\u001b[0mteams\u001b[0m\u001b[0;34m.\u001b[0m\u001b[0mofficialName\u001b[0m\u001b[0;34m.\u001b[0m\u001b[0mstr\u001b[0m\u001b[0;34m.\u001b[0m\u001b[0mcontains\u001b[0m\u001b[0;34m(\u001b[0m\u001b[0;34m'Belgium'\u001b[0m\u001b[0;34m)\u001b[0m\u001b[0;34m]\u001b[0m\u001b[0;34m)\u001b[0m\u001b[0;34m\u001b[0m\u001b[0;34m\u001b[0m\u001b[0m\n\u001b[0m\u001b[1;32m      3\u001b[0m \u001b[0;34m\u001b[0m\u001b[0m\n\u001b[1;32m      4\u001b[0m \u001b[0;31m#\u001b[0m\u001b[0;34m\u001b[0m\u001b[0;34m\u001b[0m\u001b[0m\n\u001b[1;32m      5\u001b[0m \u001b[0mmatches\u001b[0m\u001b[0;34m[\u001b[0m\u001b[0mmatches\u001b[0m\u001b[0;34m.\u001b[0m\u001b[0mteamId\u001b[0m \u001b[0;34m==\u001b[0m \u001b[0;36m6380\u001b[0m\u001b[0;34m]\u001b[0m\u001b[0;34m.\u001b[0m\u001b[0mappend\u001b[0m\u001b[0;34m(\u001b[0m\u001b[0mmatches\u001b[0m\u001b[0;34m[\u001b[0m\u001b[0mmatches\u001b[0m\u001b[0;34m.\u001b[0m\u001b[0mteamId\u001b[0m \u001b[0;34m==\u001b[0m \u001b[0;36m5629\u001b[0m\u001b[0;34m]\u001b[0m\u001b[0;34m)\u001b[0m\u001b[0;34m\u001b[0m\u001b[0;34m\u001b[0m\u001b[0m\n",
            "\u001b[0;32m/usr/local/lib/python3.10/dist-packages/pandas/core/generic.py\u001b[0m in \u001b[0;36m__getattr__\u001b[0;34m(self, name)\u001b[0m\n\u001b[1;32m   5900\u001b[0m         ):\n\u001b[1;32m   5901\u001b[0m             \u001b[0;32mreturn\u001b[0m \u001b[0mself\u001b[0m\u001b[0;34m[\u001b[0m\u001b[0mname\u001b[0m\u001b[0;34m]\u001b[0m\u001b[0;34m\u001b[0m\u001b[0;34m\u001b[0m\u001b[0m\n\u001b[0;32m-> 5902\u001b[0;31m         \u001b[0;32mreturn\u001b[0m \u001b[0mobject\u001b[0m\u001b[0;34m.\u001b[0m\u001b[0m__getattribute__\u001b[0m\u001b[0;34m(\u001b[0m\u001b[0mself\u001b[0m\u001b[0;34m,\u001b[0m \u001b[0mname\u001b[0m\u001b[0;34m)\u001b[0m\u001b[0;34m\u001b[0m\u001b[0;34m\u001b[0m\u001b[0m\n\u001b[0m\u001b[1;32m   5903\u001b[0m \u001b[0;34m\u001b[0m\u001b[0m\n\u001b[1;32m   5904\u001b[0m     \u001b[0;32mdef\u001b[0m \u001b[0m__setattr__\u001b[0m\u001b[0;34m(\u001b[0m\u001b[0mself\u001b[0m\u001b[0;34m,\u001b[0m \u001b[0mname\u001b[0m\u001b[0;34m:\u001b[0m \u001b[0mstr\u001b[0m\u001b[0;34m,\u001b[0m \u001b[0mvalue\u001b[0m\u001b[0;34m)\u001b[0m \u001b[0;34m->\u001b[0m \u001b[0;32mNone\u001b[0m\u001b[0;34m:\u001b[0m\u001b[0;34m\u001b[0m\u001b[0;34m\u001b[0m\u001b[0m\n",
            "\u001b[0;31mAttributeError\u001b[0m: 'DataFrame' object has no attribute 'officialName'"
          ]
        }
      ]
    },
    {
      "cell_type": "code",
      "source": [
        "events = events[(events.matchId == ) &\n",
        "                (events.matchPeriod != 'E1') & (events.matchPeriod != 'E2') &\n",
        "                (events.matchPeriod != 'P') & (events.teamId == )]"
      ],
      "metadata": {
        "id": "bzMfZ_fEeJrb"
      },
      "execution_count": null,
      "outputs": []
    },
    {
      "cell_type": "code",
      "source": [
        "member_brazil = matches_member[(matches_member.matchId == )\n",
        "& (matches_member.teamId == ) & (matches_member.startingF == )]"
      ],
      "metadata": {
        "id": "hKdsU2zHe2FN"
      },
      "execution_count": null,
      "outputs": []
    },
    {
      "cell_type": "code",
      "source": [
        "events = events[events.playerId.isin(member_brazil.playerId)]"
      ],
      "metadata": {
        "id": "ez0creF6mqnt"
      },
      "execution_count": null,
      "outputs": []
    },
    {
      "cell_type": "code",
      "source": [
        "events['fromXm'] = round((events['fromY'] * 68/100), 1)\n",
        "events['fromYm'] = round((events['fromX'] * 105/100), 1)\n",
        "events['toXm'] = round((events['toY'] * 68/100), 1)\n",
        "events['toYm'] = round((events['toX'] * 105/100), 1)"
      ],
      "metadata": {
        "id": "PDNTpkbom0cR"
      },
      "execution_count": null,
      "outputs": []
    },
    {
      "cell_type": "code",
      "source": [
        "# Calculating the average position of each player:\n",
        "events.to_csv('csv/brazil_passing_events.csv', index = False)\n",
        "# Save\n",
        "\n",
        "pass_events = events[events.eventId == 8]\n",
        "\n",
        "pass_position = pass_events.groupby(['playerId'], as_index = False)\n",
        "\n",
        "pass_position = pass_position.agg({'fromXm': 'mean', 'fromYm' : 'mean'})"
      ],
      "metadata": {
        "id": "ozmyA6F6ncPI"
      },
      "execution_count": null,
      "outputs": []
    },
    {
      "cell_type": "code",
      "source": [
        "# Merging with player data to get player names:\n",
        "pass_position = pd.merge(pass_position, players, on = 'playerId')"
      ],
      "metadata": {
        "id": "ircLLtNzoirw"
      },
      "execution_count": null,
      "outputs": []
    },
    {
      "cell_type": "code",
      "source": [
        "# Summarizing pass events for Pass Sonar"
      ],
      "metadata": {
        "id": "CsubuTxlo48H"
      },
      "execution_count": null,
      "outputs": []
    },
    {
      "cell_type": "code",
      "source": [],
      "metadata": {
        "id": "YzXHDR4Koewe"
      },
      "execution_count": null,
      "outputs": []
    }
  ]
}