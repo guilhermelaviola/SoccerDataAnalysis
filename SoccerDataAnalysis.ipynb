{
  "nbformat": 4,
  "nbformat_minor": 0,
  "metadata": {
    "colab": {
      "provenance": [],
      "authorship_tag": "ABX9TyOhpn9dVt5BBg3Ff9mSeq/d",
      "include_colab_link": true
    },
    "kernelspec": {
      "name": "python3",
      "display_name": "Python 3"
    },
    "language_info": {
      "name": "python"
    }
  },
  "cells": [
    {
      "cell_type": "markdown",
      "metadata": {
        "id": "view-in-github",
        "colab_type": "text"
      },
      "source": [
        "<a href=\"https://colab.research.google.com/github/guilhermelaviola/SoccerDataAnalysis/blob/main/SoccerDataAnalysis.ipynb\" target=\"_parent\"><img src=\"https://colab.research.google.com/assets/colab-badge.svg\" alt=\"Open In Colab\"/></a>"
      ]
    },
    {
      "cell_type": "code",
      "execution_count": 1,
      "metadata": {
        "id": "4lcdX1FO3iE3"
      },
      "outputs": [],
      "source": [
        "# Importing all the necessary libraries:\n",
        "import pandas as pd\n",
        "import matplotlib.pyplot as plt"
      ]
    },
    {
      "cell_type": "code",
      "source": [
        "# Loading the dataframe:\n",
        "data = pd.read_csv('football_data.csv')"
      ],
      "metadata": {
        "id": "yBS1hafd3vYD"
      },
      "execution_count": null,
      "outputs": []
    },
    {
      "cell_type": "code",
      "source": [
        "# Data Exploration and Visualization:\n",
        "\n",
        "# Displaying the first 10 rows or the dataframe:\n",
        "print(data.head(10))\n",
        "\n",
        "# Plotting goals scored by each team:\n",
        "team_goals = df.groupby('Team')['Goals'].sum()\n",
        "team_goals.plot(kind = 'bar', figsize = (10, 6))\n",
        "plt.title('Total Goals Scored by Each Team')\n",
        "plt.xlabel('Team')\n",
        "plt.ylabel('Goals')\n",
        "plt.show()"
      ],
      "metadata": {
        "id": "6clx8QBc39AU"
      },
      "execution_count": null,
      "outputs": []
    },
    {
      "cell_type": "code",
      "source": [
        "# Performance Metrics:\n",
        "\n",
        "# Calculating goal conversion rate:\n",
        "df['Goal Conversion Rate'] = (df['Goals'] / df['Shots']) * 100\n",
        "\n",
        "# Displaying goal conversion rate:\n",
        "plt.scatter(df['Goal Conversion Rate'], df['Player'], alpha = 0.5)\n",
        "plt.title('Goal Conversion Rate vs. Player')\n",
        "plt.xlabel('Goal Conversion Rate (%)')\n",
        "plt.ylabel('Player')\n",
        "plt.show()"
      ],
      "metadata": {
        "id": "QFYHgrnO4vZI"
      },
      "execution_count": null,
      "outputs": []
    },
    {
      "cell_type": "code",
      "source": [
        "# Trend Analysis:\n",
        "\n",
        "# Converting 'Date' columnto datetime format:\n",
        "df['Date'] = pd.to_datetime(df['Date'])\n",
        "\n",
        "# Analysing goals scored over time:\n",
        "goals_over_time = df.groupby('Date')['Goals'].sum()\n",
        "goals_over_time.plot(figsize = (12, 6))\n",
        "plt.title('Goals Scored Over Time')\n",
        "plt..xlabel('Date')\n",
        "plt.ylabel('Goals')\n",
        "plt.show()"
      ],
      "metadata": {
        "id": "4VA4P16U4zpJ"
      },
      "execution_count": null,
      "outputs": []
    }
  ]
}